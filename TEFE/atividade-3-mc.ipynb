{
 "cells": [
  {
   "cell_type": "code",
   "execution_count": 1,
   "metadata": {},
   "outputs": [],
   "source": [
    "import numpy as np"
   ]
  },
  {
   "cell_type": "code",
   "execution_count": 2,
   "metadata": {},
   "outputs": [],
   "source": [
    "N = 10000"
   ]
  },
  {
   "cell_type": "markdown",
   "metadata": {},
   "source": [
    "# Propagação de Incertezas por \"Toy Monte Carlo\""
   ]
  },
  {
   "cell_type": "markdown",
   "metadata": {},
   "source": [
    "### Item 1"
   ]
  },
  {
   "cell_type": "markdown",
   "metadata": {},
   "source": [
    "---"
   ]
  },
  {
   "cell_type": "markdown",
   "metadata": {},
   "source": [
    "1) Considere uma grandeza 𝑥 cuja relação com os dados 𝑟 é dada por 𝑥 = 𝜋. 𝑟². Suponha que\n",
    "os dados 𝑟 sejam gaussianos com valor verdadeiro r0 = 15,0 e desvio-padrão 𝜎𝑟 = 1,0.\n",
    "Estime a incerteza de 𝑥 usando o “Toy Monte Carlo” com 𝑁 = 10.000 simulações. Escreva\n",
    "também o valor médio de 𝑥 obtido nas simulações com sua respectiva incerteza."
   ]
  },
  {
   "cell_type": "code",
   "execution_count": 3,
   "metadata": {},
   "outputs": [],
   "source": [
    "def x(r):\n",
    "    return np.pi * r ** 2"
   ]
  },
  {
   "cell_type": "code",
   "execution_count": 4,
   "metadata": {},
   "outputs": [],
   "source": [
    "r_dist = np.random.normal(loc=15, scale=1, size=N)\n",
    "x_dist = x(r_dist)"
   ]
  },
  {
   "cell_type": "code",
   "execution_count": 5,
   "metadata": {},
   "outputs": [
    {
     "name": "stdout",
     "output_type": "stream",
     "text": [
      "Média: 709.46448\n",
      "Desvio: 95.09067\n"
     ]
    }
   ],
   "source": [
    "print(f\"Média: {x_dist.mean():.5f}\")\n",
    "print(f\"Desvio: {x_dist.std():.5f}\")"
   ]
  },
  {
   "cell_type": "markdown",
   "metadata": {},
   "source": [
    "---"
   ]
  },
  {
   "cell_type": "markdown",
   "metadata": {},
   "source": [
    "### Item 2"
   ]
  },
  {
   "cell_type": "markdown",
   "metadata": {},
   "source": [
    "2) Considere uma grandeza 𝑦 cuja relação com os dados 𝑑 é dada por 𝑦 = 𝑑³. Suponha que\n",
    "os dados 𝑑 sejam gaussianos com valor verdadeiro 𝑑0 = 5,0 e 𝜎𝑑 = 1,0.\n",
    "Estime a incerteza de 𝑦 usando o “Toy Monte Carlo” com 𝑁 = 10.000 simulações. Escreva\n",
    "também o valor médio de 𝑦 com sua respectiva incerteza."
   ]
  },
  {
   "cell_type": "code",
   "execution_count": 6,
   "metadata": {},
   "outputs": [],
   "source": [
    "def y(d):\n",
    "    return d ** 3"
   ]
  },
  {
   "cell_type": "code",
   "execution_count": 7,
   "metadata": {},
   "outputs": [],
   "source": [
    "d_dist = np.random.normal(loc=5, scale=1, size=N)"
   ]
  },
  {
   "cell_type": "code",
   "execution_count": 8,
   "metadata": {},
   "outputs": [
    {
     "name": "stdout",
     "output_type": "stream",
     "text": [
      "Média: 140.24261\n",
      "Desvio: 81.53001\n"
     ]
    }
   ],
   "source": [
    "y_dist = y(d_dist)\n",
    "\n",
    "print(f\"Média: {y_dist.mean():.5f}\")\n",
    "print(f\"Desvio: {y_dist.std():.5f}\")"
   ]
  },
  {
   "cell_type": "markdown",
   "metadata": {},
   "source": [
    "---"
   ]
  },
  {
   "cell_type": "markdown",
   "metadata": {},
   "source": [
    "### Item 3"
   ]
  },
  {
   "cell_type": "markdown",
   "metadata": {},
   "source": [
    "3) Considere uma grandeza 𝑧 cuja relação com os dados 𝑎 e 𝑏 é dada por 𝑧 = 𝑎/𝑏. Suponha que\n",
    "𝑎 e 𝑏 sejam gaussianos com valores verdadeiros 𝑎0 = 10,0 e 𝑏0 = 20,0 com desvios-padrões\n",
    "𝜎𝑎 = 2,0 e 𝜎𝑏 = 2,0.\n",
    "\n",
    "a) Estime a incerteza de 𝑧 usando o “Toy Monte Carlo” com 𝑁 = 10.000 simulações.\n",
    "Escreva também o valor médio de 𝑧 com sua respectiva incerteza.\n",
    "\n",
    "b) Refaça as simulações considerando o valor de 𝑏 fixo (isto é, sem incerteza, 𝜎𝑏 = 0) para\n",
    "estimar a incerteza que 𝑧 tem apenas por causa da incerteza de 𝑎 (isto é, 𝜎𝑧[𝑎]).\n",
    "\n",
    "c) Refaça novamente as simulações fixando agora o valor de 𝑎 e estime a incerteza de 𝑧\n",
    "apenas por causa de 𝑏 (isto é, 𝜎𝑧[𝑏])."
   ]
  },
  {
   "cell_type": "code",
   "execution_count": 9,
   "metadata": {},
   "outputs": [],
   "source": [
    "def z(a, b):\n",
    "    return a / b"
   ]
  },
  {
   "cell_type": "markdown",
   "metadata": {},
   "source": [
    "#### a)"
   ]
  },
  {
   "cell_type": "code",
   "execution_count": 10,
   "metadata": {},
   "outputs": [],
   "source": [
    "a_dist = np.random.normal(loc=10, scale=2, size=N)\n",
    "b_dist = np.random.normal(loc=20, scale=2, size=N)"
   ]
  },
  {
   "cell_type": "code",
   "execution_count": 11,
   "metadata": {},
   "outputs": [
    {
     "name": "stdout",
     "output_type": "stream",
     "text": [
      "Média: 0.50528\n",
      "Desvio: 0.11478\n"
     ]
    }
   ],
   "source": [
    "z_dist = z(a_dist, b_dist)\n",
    "\n",
    "print(f\"Média: {z_dist.mean():.5f}\")\n",
    "print(f\"Desvio: {z_dist.std():.5f}\")"
   ]
  },
  {
   "cell_type": "markdown",
   "metadata": {},
   "source": [
    "#### b)"
   ]
  },
  {
   "cell_type": "code",
   "execution_count": 12,
   "metadata": {},
   "outputs": [],
   "source": [
    "a_dist = np.random.normal(loc=10, scale=2, size=N)\n",
    "b_dist = np.random.normal(loc=20, scale=0, size=N)"
   ]
  },
  {
   "cell_type": "code",
   "execution_count": 13,
   "metadata": {},
   "outputs": [
    {
     "name": "stdout",
     "output_type": "stream",
     "text": [
      "Média: 0.50036\n",
      "Desvio: 0.09968\n"
     ]
    }
   ],
   "source": [
    "z_dist = z(a_dist, b_dist)\n",
    "\n",
    "print(f\"Média: {z_dist.mean():.5f}\")\n",
    "print(f\"Desvio: {z_dist.std():.5f}\")"
   ]
  },
  {
   "cell_type": "markdown",
   "metadata": {},
   "source": [
    "#### c)"
   ]
  },
  {
   "cell_type": "code",
   "execution_count": 14,
   "metadata": {},
   "outputs": [],
   "source": [
    "a_dist = np.random.normal(loc=10, scale=0, size=N)\n",
    "b_dist = np.random.normal(loc=20, scale=2, size=N)"
   ]
  },
  {
   "cell_type": "code",
   "execution_count": 15,
   "metadata": {},
   "outputs": [
    {
     "name": "stdout",
     "output_type": "stream",
     "text": [
      "Média: 0.50612\n",
      "Desvio: 0.05199\n"
     ]
    }
   ],
   "source": [
    "z_dist = z(a_dist, b_dist)\n",
    "\n",
    "print(f\"Média: {z_dist.mean():.5f}\")\n",
    "print(f\"Desvio: {z_dist.std():.5f}\")"
   ]
  }
 ],
 "metadata": {
  "kernelspec": {
   "display_name": "Python 3",
   "language": "python",
   "name": "python3"
  },
  "language_info": {
   "codemirror_mode": {
    "name": "ipython",
    "version": 3
   },
   "file_extension": ".py",
   "mimetype": "text/x-python",
   "name": "python",
   "nbconvert_exporter": "python",
   "pygments_lexer": "ipython3",
   "version": "3.7.4"
  }
 },
 "nbformat": 4,
 "nbformat_minor": 4
}
