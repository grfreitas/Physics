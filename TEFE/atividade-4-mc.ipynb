{
 "cells": [
  {
   "cell_type": "code",
   "execution_count": 1,
   "metadata": {},
   "outputs": [],
   "source": [
    "import numpy as np"
   ]
  },
  {
   "cell_type": "code",
   "execution_count": 1,
   "metadata": {},
   "outputs": [],
   "source": [
    "d = {\n",
    "    \"page_url\": \"nosso-cardapio\",\n",
    "    \"displays\": [\n",
    "        {\n",
    "            \"id\": \"5c5c60bdc26e584664dd056c\",\n",
    "            \"name\": \"pratos\",\n",
    "            \"item_ids\": [\n",
    "                \"59161cb4cb7257001150ebdb\",\n",
    "                \"59665dbc91d15d0011120f75\",\n",
    "                \"5a9d3903a611550014750620\",\n",
    "                \"5a2837fe6481b7001488774a\",\n",
    "                \"594ab0d98e22e400118e015c\",\n",
    "                \"59161cb4cb7257001150ebe0\",\n",
    "                \"59161cb4cb7257001150ebe9\",\n",
    "                \"59161cb4cb7257001150ebf6\",\n",
    "                \"59161cb4cb7257001150ebfb\",\n",
    "                \"59526396258ca30011b1c045\",\n",
    "                \"5b3588e76f978e00142ccdf8\",\n",
    "                \"5a90224c911eb0001401b2be\",\n",
    "                \"5ae09570cfb48a0014092c3c\",\n",
    "                \"5afc82b55cf2dc001495a3f0\",\n",
    "                \"5a4fe330aa85c300142eea8f\",\n",
    "                \"5b35889f6f978e00142ccdf6\",\n",
    "                \"5bf824f5dcb5ef00136b8db3\",\n",
    "                \"5a16fe3f5d37280014f57e66\",\n",
    "                \"5cdc225f2eb5250015a675b3\",\n",
    "                \"5d717eac8a149a00158f932b\",\n",
    "                \"5d9623b71a0acc001541a729\",\n",
    "                \"5de1430a1aed1a001548827f\",\n",
    "                \"5e0f83fa9e693000151ad6ad\",\n",
    "                \"5e0f82ad9e693000151ad614\",\n",
    "                \"5e0f80f29e693000151ad55e\",\n",
    "                \"5e0f7e539e693000151ad3ae\",\n",
    "                \"5e15e33b0a8ebf0015ba4d3f\",\n",
    "                \"5e15e1f50a8ebf0015ba4cbe\",\n",
    "                \"5e29c0173035ee0015b645ea\",\n",
    "                \"5e4aa4008d6a8b0015210d53\",\n",
    "                \"5e4aa3b48d6a8b0015210d35\",\n",
    "                \"5a5652954a3df10014f19ebd\",\n",
    "                \"5c2e32495b12690013eb4acd\",\n",
    "                \"5c2e31ab5b12690013eb4aca\",\n",
    "                \"59161cb3cb7257001150ebcb\",\n",
    "                \"5d717eec8a149a00158f9334\",\n",
    "                \"5d717e658a149a00158f930b\",\n",
    "                \"5e4aa37a8d6a8b0015210d1c\",\n",
    "                \"5b35880c6f978e00142ccdf2\",\n",
    "                \"5ebdbb5ec195f10017fe9673\",\n",
    "                \"5ebbfee603c4c00017d1fb13\",\n",
    "                \"5ebdb98ec195f10017fe960d\",\n",
    "                \"5ebdbeb8c195f10017fe9709\",\n",
    "                \"5ebdbf83c195f10017fe9729\",\n",
    "                \"5ebdbadcc195f10017fe9666\",\n",
    "                \"5ebdbccfc195f10017fe968f\",\n",
    "                \"5ebdbffac195f10017fe975f\",\n",
    "                \"5ebdb8dec195f10017fe95da\",\n",
    "                \"5ebaed5203c4c00017d1cab0\",\n",
    "                \"5ebadd0ea1ad7e0017abe050\",\n",
    "                \"5ed52157d24c0d0017b98de8\",\n",
    "                \"5ed51eddd24c0d0017b98c6f\",\n",
    "                \"5a2839686481b7001488774b\",\n",
    "                \"5bfc43c74ae4ea001346f026\",\n",
    "                \"5ebbf8c803c4c00017d1f8cc\",\n",
    "                \"5ebdba0ec195f10017fe9628\"\n",
    "            ]\n",
    "        },\n",
    "        {\n",
    "            \"id\": \"5c5c60bdc26e584664dd056b\",\n",
    "            \"name\": \"itens individuais\",\n",
    "            \"item_ids\": [\n",
    "                \"5d1fcb05fadf8100150d399e\",\n",
    "                \"5b33cbdbd2f5c00014255522\",\n",
    "                \"5bc75951b3001000132fbfbd\",\n",
    "                \"59161c71cb7257001150eb52\",\n",
    "                \"5b3267563d00ff0014b48caa\",\n",
    "                \"59161c71cb7257001150eb2b\",\n",
    "                \"59161c71cb7257001150eb32\",\n",
    "                \"59161c71cb7257001150eb55\",\n",
    "                \"59161c71cb7257001150eb2c\",\n",
    "                \"5a95f40ec797150014a9c598\",\n",
    "                \"5947bd9a056d7200113bd555\",\n",
    "                \"59161c71cb7257001150eb30\",\n",
    "                \"59161c71cb7257001150eb76\",\n",
    "                \"59161c71cb7257001150eb3c\",\n",
    "                \"59161c71cb7257001150eb41\",\n",
    "                \"5d1f99f49f825b00154f12df\",\n",
    "                \"59161c71cb7257001150eb46\",\n",
    "                \"59161c71cb7257001150eb2f\",\n",
    "                \"59161c71cb7257001150eb36\",\n",
    "                \"59161c71cb7257001150eb4b\",\n",
    "                \"59161c71cb7257001150eb4f\",\n",
    "                \"592caecbcf8abf00114e223e\",\n",
    "                \"59161c71cb7257001150eb34\",\n",
    "                \"59161c71cb7257001150eb44\",\n",
    "                \"59161c71cb7257001150eb65\",\n",
    "                \"59161c71cb7257001150eb66\",\n",
    "                \"5a4d3b63285921001450822a\",\n",
    "                \"5a8c7e7e126bb30014b96e58\",\n",
    "                \"5added80566eee001474e808\",\n",
    "                \"5af9eb039c2535001420268a\",\n",
    "                \"59161c71cb7257001150eb75\",\n",
    "                \"5cd434aadfc87e0015c67826\",\n",
    "                \"59161c71cb7257001150eb5a\",\n",
    "                \"59161c71cb7257001150eb38\",\n",
    "                \"5c928417340de50014692f99\",\n",
    "                \"5a0f420bb1a9ce00145b981d\",\n",
    "                \"59161c71cb7257001150eb72\",\n",
    "                \"5a0f2f12b1a9ce00145b97b4\",\n",
    "                \"5dbae3a08be90a001737f12c\",\n",
    "                \"5dd42a17742dfd0017cd4c22\",\n",
    "                \"5d41a45ad396190015d207b7\",\n",
    "                \"59161c71cb7257001150eb74\",\n",
    "                \"5a4cebc265421f0014b70d63\",\n",
    "                \"5a53d9c2bb82cd001421e0b0\",\n",
    "                \"5e207d057eb8530017997276\",\n",
    "                \"5ccb42ba7a35fc001512fd21\"\n",
    "            ]\n",
    "        },\n",
    "        {\n",
    "            \"id\": \"5c5c60bdc26e584664dd0582\",\n",
    "            \"name\": \"kits\",\n",
    "            \"item_ids\": []\n",
    "        },\n",
    "        {\n",
    "            \"id\": \"5c5c60bdc26e584664dd0595\",\n",
    "            \"name\": \"lanches\",\n",
    "            \"item_ids\": [\n",
    "                \"59161c71cb7257001150eb59\",\n",
    "                \"59161c71cb7257001150eb5e\",\n",
    "                \"59161c71cb7257001150eb58\",\n",
    "                \"59161c71cb7257001150eb5a\",\n",
    "                \"59161c71cb7257001150eb57\",\n",
    "                \"5d56c3ad40940f0015c021fb\",\n",
    "                \"5d6697fc469a5a00159b093d\",\n",
    "                \"5d56c23a40940f0015c0212d\",\n",
    "                \"5e14a0f1c461320017591619\",\n",
    "                \"5d669823469a5a00159b0964\",\n",
    "                \"5b7de77785594e0014e46f3e\",\n",
    "                \"5e13319b8e786a0017ebcae9\",\n",
    "                \"5eb99339ebc1ed0017554eca\",\n",
    "                \"59161c71cb7257001150eb2e\",\n",
    "                \"5e04b1e5b5b7a50017cb09cd\",\n",
    "                \"59161c71cb7257001150eb3e\",\n",
    "                \"5e06067db1c1ee0017a871b7\",\n",
    "                \"5e7b995528414000174e2122\",\n",
    "                \"5e7b98e828414000174e211e\",\n",
    "                \"5e7b989728414000174e211a\",\n",
    "                \"5e7b84ec28414000174e210a\",\n",
    "                \"5e7b976928414000174e2116\",\n",
    "                \"5e98a06607461600175e09f9\",\n",
    "                \"5e98a0cc07461600175e09ff\",\n",
    "                \"5e84eb83c94af200179cea09\",\n",
    "                \"5eb596ed8a81fe0017f4b73f\",\n",
    "                \"5e1cfdb844d36c00174c7764\",\n",
    "                \"59161c71cb7257001150eb43\"\n",
    "            ]\n",
    "        },\n",
    "        {\n",
    "            \"id\": \"5c5c60bdc26e584664dd0599\",\n",
    "            \"name\": \"Sopas\",\n",
    "            \"item_ids\": [\n",
    "                \"5b7c39029d041700141052f2\",\n",
    "                \"5cefe8b3e535ef0015a715d2\",\n",
    "                \"5cebdd8b9f530b0015ca7c68\",\n",
    "                \"5e5d700044001a0017727206\",\n",
    "                \"5e85f3325cbaf1001751cdcc\",\n",
    "                \"5e85e4f25cbaf1001751c805\"\n",
    "            ]\n",
    "        },\n",
    "        {\n",
    "            \"id\": \"5ed8f720234c20b42e7f3190\",\n",
    "            \"name\": \"doces\",\n",
    "            \"item_ids\": [\n",
    "                \"59161c71cb7257001150eb3e\",\n",
    "                \"59161c71cb7257001150eb2e\",\n",
    "                \"59161c71cb7257001150eb57\",\n",
    "                \"5b7de77785594e0014e46f3e\",\n",
    "                \"5e13319b8e786a0017ebcae9\",\n",
    "                \"5e04b1e5b5b7a50017cb09cd\",\n",
    "                \"5e7b995528414000174e2122\",\n",
    "                \"5e7b98e828414000174e211e\",\n",
    "                \"5e7b989728414000174e211a\",\n",
    "                \"5e7b84ec28414000174e210a\",\n",
    "                \"5e7b976928414000174e2116\",\n",
    "                \"5d0175fae70ad7001550a23f\",\n",
    "                \"5d02d2425d83b60015312294\",\n",
    "                \"5d02caf05d83b6001531228e\",\n",
    "                \"5e3b1c772225620017ff5370\",\n",
    "                \"5e3b131b2225620017ff5368\",\n",
    "                \"5e3b023f2225620017ff534b\",\n",
    "                \"5c101188215510001375ad4d\",\n",
    "                \"5c1010ac215510001375ad49\",\n",
    "                \"5c10110d215510001375ad4b\",\n",
    "                \"5eb596ed8a81fe0017f4b73f\",\n",
    "                \"59161c71cb7257001150eb43\",\n",
    "                \"59161c71cb7257001150eb43\"\n",
    "            ]\n",
    "        }\n",
    "    ],\n",
    "    \"user_id\": \"5e38454b2789dd00176c43f1\",\n",
    "    \"snowplow_domain_user_id\": \"123123123123123123\"\n",
    "}"
   ]
  },
  {
   "cell_type": "code",
   "execution_count": 6,
   "metadata": {},
   "outputs": [],
   "source": [
    "import numpy as np"
   ]
  },
  {
   "cell_type": "code",
   "execution_count": 8,
   "metadata": {},
   "outputs": [
    {
     "data": {
      "text/plain": [
       "159"
      ]
     },
     "execution_count": 8,
     "metadata": {},
     "output_type": "execute_result"
    }
   ],
   "source": [
    "len(np.hstack([display[\"item_ids\"] for display in d['displays']]))"
   ]
  },
  {
   "cell_type": "markdown",
   "metadata": {},
   "source": [
    "### Item 1 \n",
    "\n",
    " Considere uma grandeza 𝑦 cuja relação com os dados 𝑥 é dada por 𝑧 = sin(𝑥). Suponha\n",
    "que os dados 𝑥 sejam gaussianos com valor verdadeiro 𝑥0 = 85° e 𝜎𝑥 = 10°"
   ]
  },
  {
   "cell_type": "code",
   "execution_count": 2,
   "metadata": {},
   "outputs": [],
   "source": [
    "N = 10000"
   ]
  },
  {
   "cell_type": "code",
   "execution_count": 3,
   "metadata": {},
   "outputs": [],
   "source": [
    "x0 = 85 / 180 * np.pi\n",
    "σ_x = 10 / 180 * np.pi"
   ]
  },
  {
   "cell_type": "code",
   "execution_count": 4,
   "metadata": {},
   "outputs": [],
   "source": [
    "x = np.random.normal(x0, σ_x, N)"
   ]
  },
  {
   "cell_type": "code",
   "execution_count": 5,
   "metadata": {},
   "outputs": [],
   "source": [
    "y = np.sin(x)"
   ]
  },
  {
   "cell_type": "code",
   "execution_count": 6,
   "metadata": {},
   "outputs": [
    {
     "data": {
      "text/plain": [
       "0.9807354406849735"
      ]
     },
     "execution_count": 6,
     "metadata": {},
     "output_type": "execute_result"
    }
   ],
   "source": [
    "y.mean()"
   ]
  },
  {
   "cell_type": "code",
   "execution_count": 7,
   "metadata": {},
   "outputs": [
    {
     "data": {
      "text/plain": [
       "0.026338564156535807"
      ]
     },
     "execution_count": 7,
     "metadata": {},
     "output_type": "execute_result"
    }
   ],
   "source": [
    "y.std()"
   ]
  },
  {
   "cell_type": "code",
   "execution_count": 34,
   "metadata": {},
   "outputs": [
    {
     "data": {
      "text/plain": [
       "0.00026338564156535806"
      ]
     },
     "execution_count": 34,
     "metadata": {},
     "output_type": "execute_result"
    }
   ],
   "source": [
    "y.std() / np.sqrt(N)"
   ]
  },
  {
   "cell_type": "markdown",
   "metadata": {},
   "source": [
    "## Item 2\n",
    " \n",
    " Considere um experimento em que são medidos 𝑛 = 50 dados sujeitos à erros aleatórios\n",
    "de desvio-padrão 28 e a um erro sistemático de desvio-padrão 3. Considere que o valor\n",
    "verdadeiro da grandeza seja 𝑥0 = 100 e que os erros sejam gaussianos.\n",
    "Simule 𝑴 = 𝟏𝟎. 𝟎𝟎𝟎 repetições do experimento e registre os resultados finais, 𝒙𝒇\n",
    ", de cada\n",
    "experimento (𝒙𝒇 é a média dos 𝒏 valores de 𝒙 obtidos em cada repetição do experimento)."
   ]
  },
  {
   "cell_type": "code",
   "execution_count": 8,
   "metadata": {},
   "outputs": [],
   "source": [
    "N = 10000  # nº de dados\n",
    "n = 50  # nº experimentos"
   ]
  },
  {
   "cell_type": "code",
   "execution_count": 9,
   "metadata": {},
   "outputs": [],
   "source": [
    "x0 = 100\n",
    "e_a = 28\n",
    "e_s = 3"
   ]
  },
  {
   "cell_type": "markdown",
   "metadata": {},
   "source": [
    "a) Estime a incerteza de cada resultado final, 𝜎𝑓 (𝜎𝑓 é o desvio-padrão amostral dos valores de 𝑥𝑓)."
   ]
  },
  {
   "cell_type": "code",
   "execution_count": 10,
   "metadata": {},
   "outputs": [],
   "source": [
    "experiments = np.random.normal(x0, e_a, (N, n)) + np.random.normal(0, e_s, n)"
   ]
  },
  {
   "cell_type": "code",
   "execution_count": 11,
   "metadata": {},
   "outputs": [],
   "source": [
    "x = np.array(list(map(lambda e: e.mean(), experiments)))"
   ]
  },
  {
   "cell_type": "code",
   "execution_count": 12,
   "metadata": {},
   "outputs": [
    {
     "data": {
      "text/plain": [
       "3.961079947104731"
      ]
     },
     "execution_count": 12,
     "metadata": {},
     "output_type": "execute_result"
    }
   ],
   "source": [
    "x.std()"
   ]
  },
  {
   "cell_type": "code",
   "execution_count": 33,
   "metadata": {},
   "outputs": [
    {
     "data": {
      "text/plain": [
       "5121"
      ]
     },
     "execution_count": 33,
     "metadata": {},
     "output_type": "execute_result"
    }
   ],
   "source": [
    "len(np.where(x >= x0)[0])"
   ]
  },
  {
   "cell_type": "code",
   "execution_count": 14,
   "metadata": {},
   "outputs": [
    {
     "data": {
      "text/plain": [
       "6852"
      ]
     },
     "execution_count": 14,
     "metadata": {},
     "output_type": "execute_result"
    }
   ],
   "source": [
    "sum(abs(x - x0) < x.std())"
   ]
  },
  {
   "cell_type": "markdown",
   "metadata": {},
   "source": [
    "## Item 3\n",
    "\n",
    " Considere o experimento de queda das bolinhas do alto do edifício Oscar Sala (Pelletron)\n",
    "mostrado na 1ª aula (slides na página da disciplina no Moodle). Supondo que o valor\n",
    "verdadeiro do tempo de queda seja 𝑡0 = 2,525 𝑠, simule experimentos onde são medidos\n",
    "𝑛 = 287 tempossujeitos apenas a erros aleatórios gaussianos de desvio-padrão 𝜎𝑡 = 0,15 𝑠.\n",
    "Simule 𝑴 = 𝟏𝟎. 𝟎𝟎𝟎 repetições do experimento (cada experimento como sendo composto\n",
    "por 𝒏 = 𝟐𝟖𝟕 medições do tempo, 𝒕) e registre os resultados finais, 𝒕𝒇\n",
    ", de cada experimento\n",
    "(𝒕𝒇 é a média dos 𝒏 valores de 𝒕 obtidos em cada repetição do experimento)."
   ]
  },
  {
   "cell_type": "code",
   "execution_count": 15,
   "metadata": {},
   "outputs": [],
   "source": [
    "N = 10000\n",
    "n = 287"
   ]
  },
  {
   "cell_type": "code",
   "execution_count": 16,
   "metadata": {},
   "outputs": [],
   "source": [
    "t0 = 2.525\n",
    "e_a = 0.15"
   ]
  },
  {
   "cell_type": "code",
   "execution_count": 17,
   "metadata": {},
   "outputs": [],
   "source": [
    "experiments = np.random.normal(t0, e_a, (N, n))"
   ]
  },
  {
   "cell_type": "code",
   "execution_count": 18,
   "metadata": {},
   "outputs": [],
   "source": [
    "means = np.array(list(map(lambda e: e.mean(), experiments)))"
   ]
  },
  {
   "cell_type": "code",
   "execution_count": 19,
   "metadata": {},
   "outputs": [
    {
     "data": {
      "text/plain": [
       "array([2.52203773, 2.53226913, 2.52546695, ..., 2.53738311, 2.52749786,\n",
       "       2.53340028])"
      ]
     },
     "execution_count": 19,
     "metadata": {},
     "output_type": "execute_result"
    }
   ],
   "source": [
    "means"
   ]
  },
  {
   "cell_type": "markdown",
   "metadata": {},
   "source": [
    "a) Usando o valor médio de tempo de cada simulação, 𝑡𝑓, calcule a aceleração de queda\n",
    "considerando que a altura seja Δ𝐻 = 34,0 𝑚 e que a velocidade vertical inicial seja nula,\n",
    "𝑎 = 2Δ𝐻/(𝑡𝑓)². Estime a incerteza dessas acelerações, 𝜎𝑎 (𝜎𝑎 é o desvio-padrão amostral dos\n",
    "valores de 𝑎)."
   ]
  },
  {
   "cell_type": "code",
   "execution_count": 20,
   "metadata": {},
   "outputs": [],
   "source": [
    "delta_h = 34"
   ]
  },
  {
   "cell_type": "code",
   "execution_count": 21,
   "metadata": {},
   "outputs": [],
   "source": [
    "a = 2 * delta_h / means ** 2"
   ]
  },
  {
   "cell_type": "code",
   "execution_count": 22,
   "metadata": {},
   "outputs": [
    {
     "data": {
      "text/plain": [
       "0.07480065759659575"
      ]
     },
     "execution_count": 22,
     "metadata": {},
     "output_type": "execute_result"
    }
   ],
   "source": [
    "a.std()"
   ]
  },
  {
   "cell_type": "markdown",
   "metadata": {},
   "source": [
    "b) Calcule o valor verdadeiro da aceleração de queda, 𝑎0\n",
    ", usando o valor verdadeiro do\n",
    "tempo de queda. Em quantas das 𝑀 repetições, o valor calculado de 𝑎 é maior que 𝑎0?\n",
    "Em quantas o módulo da diferença entre 𝑎 e 𝑎0 é menor que a incerteza de 𝑎?"
   ]
  },
  {
   "cell_type": "code",
   "execution_count": 23,
   "metadata": {},
   "outputs": [],
   "source": [
    "a0 = 2 * delta_h / t0 ** 2"
   ]
  },
  {
   "cell_type": "code",
   "execution_count": 35,
   "metadata": {},
   "outputs": [
    {
     "data": {
      "text/plain": [
       "4957"
      ]
     },
     "execution_count": 35,
     "metadata": {},
     "output_type": "execute_result"
    }
   ],
   "source": [
    "sum(a > a0)"
   ]
  },
  {
   "cell_type": "code",
   "execution_count": 24,
   "metadata": {},
   "outputs": [
    {
     "data": {
      "text/plain": [
       "6813"
      ]
     },
     "execution_count": 24,
     "metadata": {},
     "output_type": "execute_result"
    }
   ],
   "source": [
    "sum(abs(a - a0) < a.std())"
   ]
  },
  {
   "cell_type": "markdown",
   "metadata": {},
   "source": [
    "## Item 4\n",
    "\n",
    "Refaça o exercício anterior, mas com a aceleração final de cada experimento, 𝑎𝑓′, calculada\n",
    "como a média dos 𝑛 = 287 valores de aceleração correspondentes a cada um dos tempos\n",
    "medidos (𝑎' = 2Δ𝐻 / 𝑡²). Note que no exercício 3 primeiro se calcula a média dos 𝑛 tempos de\n",
    "queda e depois a aceleração correspondente ao tempo médio, ao passo que neste exercício\n",
    "primeiro se calcula a aceleração correspondente a cada um dos tempos de queda e depois a\n",
    "média dessas 𝑛 acelerações.\n",
    "\n",
    "Simule 𝑴 = 𝟏𝟎. 𝟎𝟎𝟎 repetições do experimento usando este procedimento e calcule a\n",
    "incerteza dos valores de 𝑎′𝑓 obtidos. Em quantos casos 𝑎′𝑓 é maior que 𝑎0? Em quantos casos\n",
    "a diferença entre 𝑎′𝑓 e 𝑎0 é menor que a incerteza de 𝑎′𝑓?"
   ]
  },
  {
   "cell_type": "code",
   "execution_count": 25,
   "metadata": {},
   "outputs": [],
   "source": [
    "N = 10000\n",
    "n = 287"
   ]
  },
  {
   "cell_type": "code",
   "execution_count": 26,
   "metadata": {},
   "outputs": [],
   "source": [
    "t0 = 2.525\n",
    "e_a = 0.15"
   ]
  },
  {
   "cell_type": "code",
   "execution_count": 27,
   "metadata": {},
   "outputs": [],
   "source": [
    "experiments = np.random.normal(t0, e_a, (N, n))"
   ]
  },
  {
   "cell_type": "code",
   "execution_count": 28,
   "metadata": {},
   "outputs": [],
   "source": [
    "a_prime = 2 * delta_h / experiments ** 2"
   ]
  },
  {
   "cell_type": "code",
   "execution_count": 29,
   "metadata": {},
   "outputs": [],
   "source": [
    "means = np.array(list(map(lambda e: e.mean(), a_prime)))"
   ]
  },
  {
   "cell_type": "code",
   "execution_count": 30,
   "metadata": {},
   "outputs": [
    {
     "data": {
      "text/plain": [
       "0.07703156963792675"
      ]
     },
     "execution_count": 30,
     "metadata": {},
     "output_type": "execute_result"
    }
   ],
   "source": [
    "means.std()"
   ]
  },
  {
   "cell_type": "code",
   "execution_count": 31,
   "metadata": {},
   "outputs": [
    {
     "data": {
      "text/plain": [
       "9344"
      ]
     },
     "execution_count": 31,
     "metadata": {},
     "output_type": "execute_result"
    }
   ],
   "source": [
    "len(np.where(means > a0)[0])"
   ]
  },
  {
   "cell_type": "code",
   "execution_count": 32,
   "metadata": {},
   "outputs": [
    {
     "data": {
      "text/plain": [
       "3127"
      ]
     },
     "execution_count": 32,
     "metadata": {},
     "output_type": "execute_result"
    }
   ],
   "source": [
    "sum(abs(means - a0) < means.std())"
   ]
  },
  {
   "cell_type": "code",
   "execution_count": null,
   "metadata": {},
   "outputs": [],
   "source": []
  }
 ],
 "metadata": {
  "kernelspec": {
   "display_name": "Python 3",
   "language": "python",
   "name": "python3"
  },
  "language_info": {
   "codemirror_mode": {
    "name": "ipython",
    "version": 3
   },
   "file_extension": ".py",
   "mimetype": "text/x-python",
   "name": "python",
   "nbconvert_exporter": "python",
   "pygments_lexer": "ipython3",
   "version": "3.7.4"
  }
 },
 "nbformat": 4,
 "nbformat_minor": 4
}
