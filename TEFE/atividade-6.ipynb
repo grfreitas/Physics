{
 "cells": [
  {
   "cell_type": "code",
   "execution_count": 135,
   "metadata": {},
   "outputs": [
    {
     "name": "stderr",
     "output_type": "stream",
     "text": [
      "/home/gabs/anaconda3/lib/python3.7/site-packages/statsmodels/tools/_testing.py:19: FutureWarning: pandas.util.testing is deprecated. Use the functions in the public API at pandas.testing instead.\n",
      "  import pandas.util.testing as tm\n"
     ]
    }
   ],
   "source": [
    "import matplotlib.pyplot as plt\n",
    "import numpy as np\n",
    "import seaborn as sns"
   ]
  },
  {
   "cell_type": "markdown",
   "metadata": {},
   "source": [
    "### Atividade 7"
   ]
  },
  {
   "cell_type": "markdown",
   "metadata": {},
   "source": [
    "Seja uma PDF $ f(x) = \\dfrac{3}{4} (1 - x²) $"
   ]
  },
  {
   "cell_type": "code",
   "execution_count": 114,
   "metadata": {},
   "outputs": [],
   "source": [
    "def f(x):\n",
    "    return (3 / 4) * (1 - x ** 2)"
   ]
  },
  {
   "cell_type": "code",
   "execution_count": 120,
   "metadata": {},
   "outputs": [],
   "source": [
    "xmin = -1\n",
    "xmax = 1\n",
    "ymax = 0.75"
   ]
  },
  {
   "cell_type": "code",
   "execution_count": 54,
   "metadata": {},
   "outputs": [],
   "source": [
    "N = 10000"
   ]
  },
  {
   "cell_type": "code",
   "execution_count": 155,
   "metadata": {},
   "outputs": [],
   "source": [
    "i = 0\n",
    "x = np.zeros(N)\n",
    "test = 0\n",
    "while i < N:\n",
    "    # gera um possivel x com distribuicao uniforme entre xmim e mxmax\n",
    "    x_cand = xmin + (xmax - xmin) * np.random.rand()\n",
    "    # gera um valor de y para comparacao com a PDF no ponto x gerado\n",
    "    y_test = ymax * np.random.rand()\n",
    "    if y_test <= f(x_cand):\n",
    "        x[i] = x_cand\n",
    "        i += 1\n",
    "    test += 1"
   ]
  },
  {
   "cell_type": "code",
   "execution_count": 156,
   "metadata": {},
   "outputs": [
    {
     "data": {
      "image/png": "[encoded data removed]",
      "text/plain": [
       "<Figure size 864x216 with 2 Axes>"
      ]
     },
     "metadata": {
      "needs_background": "light"
     },
     "output_type": "display_data"
    }
   ],
   "source": [
    "fig, (ax1, ax2) = plt.subplots(figsize=(12, 3), ncols=2, nrows=1)\n",
    "\n",
    "ax1.plot(x_, f(x_))\n",
    "ax2.plot(x_, g(x_))\n",
    "ax1.hist(x, alpha=.5, density=True);"
   ]
  },
  {
   "cell_type": "code",
   "execution_count": 157,
   "metadata": {},
   "outputs": [],
   "source": [
    "xm = x.mean()"
   ]
  },
  {
   "cell_type": "code",
   "execution_count": 163,
   "metadata": {},
   "outputs": [],
   "source": [
    "sigma_x = x.std() / np.sqrt(N)"
   ]
  },
  {
   "cell_type": "code",
   "execution_count": 164,
   "metadata": {},
   "outputs": [],
   "source": [
    "s_xm = x.std()"
   ]
  },
  {
   "cell_type": "code",
   "execution_count": 165,
   "metadata": {},
   "outputs": [
    {
     "data": {
      "text/plain": [
       "0.00466547892262544"
      ]
     },
     "execution_count": 165,
     "metadata": {},
     "output_type": "execute_result"
    }
   ],
   "source": [
    "xm"
   ]
  },
  {
   "cell_type": "code",
   "execution_count": 166,
   "metadata": {},
   "outputs": [
    {
     "data": {
      "text/plain": [
       "0.4501358967029096"
      ]
     },
     "execution_count": 166,
     "metadata": {},
     "output_type": "execute_result"
    }
   ],
   "source": [
    "s_xm"
   ]
  },
  {
   "cell_type": "code",
   "execution_count": 167,
   "metadata": {},
   "outputs": [
    {
     "data": {
      "text/plain": [
       "0.004501358967029096"
      ]
     },
     "execution_count": 167,
     "metadata": {},
     "output_type": "execute_result"
    }
   ],
   "source": [
    "sigma_x"
   ]
  },
  {
   "cell_type": "code",
   "execution_count": 174,
   "metadata": {},
   "outputs": [
    {
     "data": {
      "text/plain": [
       "0.9816"
      ]
     },
     "execution_count": 174,
     "metadata": {},
     "output_type": "execute_result"
    }
   ],
   "source": [
    "sum(abs(x - xm) < 2 * s_xm) / N"
   ]
  },
  {
   "cell_type": "markdown",
   "metadata": {},
   "source": [
    "---"
   ]
  },
  {
   "cell_type": "markdown",
   "metadata": {},
   "source": [
    "Seja uma PDF $ h(y) = 0.5 \\cos{y} $"
   ]
  },
  {
   "cell_type": "code",
   "execution_count": 176,
   "metadata": {},
   "outputs": [],
   "source": [
    "def h(y):\n",
    "    return 0.5 * np.cos(y)"
   ]
  },
  {
   "cell_type": "code",
   "execution_count": 189,
   "metadata": {},
   "outputs": [],
   "source": [
    "ymin = - np.pi /2 \n",
    "ymax = np.pi / 2\n",
    "hmax = 0.5"
   ]
  },
  {
   "cell_type": "code",
   "execution_count": 190,
   "metadata": {},
   "outputs": [],
   "source": [
    "N = 10000"
   ]
  },
  {
   "cell_type": "code",
   "execution_count": 191,
   "metadata": {},
   "outputs": [],
   "source": [
    "i = 0\n",
    "y = np.zeros(N)\n",
    "test = 0\n",
    "while i < N:\n",
    "    # gera um possivel x com distribuicao uniforme entre xmim e mxmax\n",
    "    y_cand = ymin + (ymax - ymin) * np.random.rand()\n",
    "    # gera um valor de y para comparacao com a PDF no ponto x gerado\n",
    "    h_test = hmax * np.random.rand()\n",
    "    if h_test <= h(y_cand):\n",
    "        y[i] = y_cand\n",
    "        i += 1\n",
    "    test += 1"
   ]
  },
  {
   "cell_type": "code",
   "execution_count": 192,
   "metadata": {},
   "outputs": [],
   "source": [
    "y_ = np.linspace(ymin, ymax, 10000)"
   ]
  },
  {
   "cell_type": "code",
   "execution_count": 194,
   "metadata": {},
   "outputs": [
    {
     "data": {
      "image/png": "[encoded data removed]",
      "text/plain": [
       "<Figure size 864x216 with 1 Axes>"
      ]
     },
     "metadata": {
      "needs_background": "light"
     },
     "output_type": "display_data"
    }
   ],
   "source": [
    "fig, ax1 = plt.subplots(figsize=(12, 3))\n",
    "\n",
    "ax1.plot(y_, h(y_))\n",
    "ax1.hist(y, alpha=.5, density=True);"
   ]
  },
  {
   "cell_type": "code",
   "execution_count": 196,
   "metadata": {},
   "outputs": [],
   "source": [
    "ym = y.mean()"
   ]
  },
  {
   "cell_type": "code",
   "execution_count": 197,
   "metadata": {},
   "outputs": [],
   "source": [
    "sigma_y = y.std() / np.sqrt(N)"
   ]
  },
  {
   "cell_type": "code",
   "execution_count": 198,
   "metadata": {},
   "outputs": [],
   "source": [
    "s_ym = y.std()"
   ]
  },
  {
   "cell_type": "code",
   "execution_count": 199,
   "metadata": {},
   "outputs": [
    {
     "data": {
      "text/plain": [
       "0.0001718007349379908"
      ]
     },
     "execution_count": 199,
     "metadata": {},
     "output_type": "execute_result"
    }
   ],
   "source": [
    "ym"
   ]
  },
  {
   "cell_type": "code",
   "execution_count": 200,
   "metadata": {},
   "outputs": [
    {
     "data": {
      "text/plain": [
       "0.6741440422758341"
      ]
     },
     "execution_count": 200,
     "metadata": {},
     "output_type": "execute_result"
    }
   ],
   "source": [
    "s_ym"
   ]
  },
  {
   "cell_type": "code",
   "execution_count": 201,
   "metadata": {},
   "outputs": [
    {
     "data": {
      "text/plain": [
       "0.006741440422758341"
      ]
     },
     "execution_count": 201,
     "metadata": {},
     "output_type": "execute_result"
    }
   ],
   "source": [
    "sigma_y"
   ]
  },
  {
   "cell_type": "code",
   "execution_count": 202,
   "metadata": {},
   "outputs": [
    {
     "data": {
      "text/plain": [
       "0.9821"
      ]
     },
     "execution_count": 202,
     "metadata": {},
     "output_type": "execute_result"
    }
   ],
   "source": [
    "sum(abs(y - ym) < 2 * s_ym) / N"
   ]
  },
  {
   "cell_type": "markdown",
   "metadata": {},
   "source": [
    "---"
   ]
  },
  {
   "cell_type": "code",
   "execution_count": 203,
   "metadata": {},
   "outputs": [],
   "source": [
    "def metodo_inversao(N=1):\n",
    "    \"\"\"\n",
    "    Gera um vetor de N elementos\n",
    "    \"\"\"\n",
    "    \n",
    "    # PDF do exemplo do roteiro: f(x) = 2 * x com x entre 0 e 1\n",
    "    #  para a qual, g(x)=x^2, cuja inversa eh x(g)=sqrt(g)\n",
    "    inv_g = lambda g : np.sqrt(g)\n",
    "    \n",
    "    # gera N valores de g com distribuicao uniforme entre 0 e 1\n",
    "    g = np.random.rand(N)\n",
    "    # calcula os valores de x correspondentes\n",
    "    x = inv_g(g)\n",
    "    \n",
    "    return x"
   ]
  },
  {
   "cell_type": "code",
   "execution_count": 204,
   "metadata": {},
   "outputs": [],
   "source": [
    "def metodo_exclusao(N=1):\n",
    "    \"\"\"\n",
    "    Gera um vetor de N elementos\n",
    "    \"\"\"\n",
    "    \n",
    "    # PDF do exemplo do roteiro: f(x) = 2 * x com x entre 0 e 1\n",
    "    xmin = 0\n",
    "    xmax = 1\n",
    "    ymax = 2\n",
    "    f = lambda x : 2 * x\n",
    "    \n",
    "    i = 0\n",
    "    x = np.zeros(N)\n",
    "    while i < N:\n",
    "        # gera um possivel x com distribuicao uniforme entre xmim e mxmax\n",
    "        x_cand = xmin + (xmax - xmin) * np.random.rand()\n",
    "        # gera um valor de y para comparacao com a PDF no ponto x gerado\n",
    "        y_test = ymax * np.random.rand()\n",
    "        if y_test <= f(x_cand):\n",
    "            x[i] = x_cand\n",
    "            i += 1\n",
    "    \n",
    "    return x"
   ]
  },
  {
   "cell_type": "code",
   "execution_count": null,
   "metadata": {},
   "outputs": [],
   "source": []
  }
 ],
 "metadata": {
  "environment": {
   "name": "common-cpu.m50",
   "type": "gcloud",
   "uri": "gcr.io/deeplearning-platform-release/base-cpu:m50"
  },
  "kernelspec": {
   "display_name": "Python 3",
   "language": "python",
   "name": "python3"
  },
  "language_info": {
   "codemirror_mode": {
    "name": "ipython",
    "version": 3
   },
   "file_extension": ".py",
   "mimetype": "text/x-python",
   "name": "python",
   "nbconvert_exporter": "python",
   "pygments_lexer": "ipython3",
   "version": "3.7.4"
  }
 },
 "nbformat": 4,
 "nbformat_minor": 4
}
