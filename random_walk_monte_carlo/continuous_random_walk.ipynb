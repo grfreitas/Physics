{
 "cells": [
  {
   "cell_type": "markdown",
   "metadata": {},
   "source": [
    "# Continuous Random Walk Exercise"
   ]
  },
  {
   "cell_type": "markdown",
   "metadata": {},
   "source": [
    "Whats the probability, given N random steps of lenght L, that you return to the inside of the original starting circle of radius R?"
   ]
  },
  {
   "cell_type": "code",
   "execution_count": 2,
   "metadata": {},
   "outputs": [],
   "source": [
    "import random\n",
    "from math import pi\n",
    "import matplotlib.pyplot as plt\n",
    "import numpy as np"
   ]
  },
  {
   "cell_type": "code",
   "execution_count": 3,
   "metadata": {},
   "outputs": [],
   "source": [
    "def random_walk(n):\n",
    "\n",
    "    r_0, theta_0 = 0, 0\n",
    "    \n",
    "    for i in range(n):\n",
    "        theta = random.uniform(0,2*pi)\n",
    "        r = np.sqrt(1 + r_0**2 + 2*r_0*np.cos(theta-theta_0))\n",
    "        theta_0 = theta_0 + np.arctan2(np.sin(theta-theta_0), r_0 + np.cos(theta-theta_0))\n",
    "        if theta_0 < 0:\n",
    "            theta_0 = 2*pi + theta_0\n",
    "        r_0 = r\n",
    "    return r"
   ]
  },
  {
   "cell_type": "code",
   "execution_count": 6,
   "metadata": {},
   "outputs": [
    {
     "name": "stdout",
     "output_type": "stream",
     "text": [
      "2 steps - Calculated: 33.47% / Theoretical: 33.33%\n",
      "3 steps - Calculated: 25.05% / Theoretical: 25.00%\n",
      "4 steps - Calculated: 19.83% / Theoretical: 20.00%\n",
      "5 steps - Calculated: 16.65% / Theoretical: 16.67%\n",
      "6 steps - Calculated: 14.33% / Theoretical: 14.29%\n",
      "7 steps - Calculated: 12.60% / Theoretical: 12.50%\n",
      "8 steps - Calculated: 11.07% / Theoretical: 11.11%\n",
      "9 steps - Calculated: 9.87% / Theoretical: 10.00%\n",
      "10 steps - Calculated: 9.03% / Theoretical: 9.09%\n",
      "11 steps - Calculated: 8.52% / Theoretical: 8.33%\n",
      "12 steps - Calculated: 7.70% / Theoretical: 7.69%\n",
      "13 steps - Calculated: 7.10% / Theoretical: 7.14%\n",
      "14 steps - Calculated: 6.66% / Theoretical: 6.67%\n",
      "15 steps - Calculated: 6.39% / Theoretical: 6.25%\n",
      "16 steps - Calculated: 6.00% / Theoretical: 5.88%\n",
      "17 steps - Calculated: 5.55% / Theoretical: 5.56%\n",
      "18 steps - Calculated: 5.33% / Theoretical: 5.26%\n",
      "19 steps - Calculated: 5.05% / Theoretical: 5.00%\n"
     ]
    }
   ],
   "source": [
    "N = 50000\n",
    "probabilities = []\n",
    "\n",
    "for i in range(2,20):\n",
    "    inside = 0\n",
    "    for j in range(N):\n",
    "        r = random_walk(i)\n",
    "        if r <= 1:\n",
    "            inside+=1\n",
    "    p = inside/N\n",
    "        \n",
    "    probabilities.append(p)\n",
    "    \n",
    "    print('{} steps - Calculated: {:2.2%} / Theoretical: {:2.2%}'.format(i,p,1/(i+1)))"
   ]
  },
  {
   "cell_type": "code",
   "execution_count": 10,
   "metadata": {},
   "outputs": [
    {
     "data": {
      "image/png": "[encoded data removed]",
      "text/plain": [
       "<matplotlib.figure.Figure at 0x7f8ee2f8cc50>"
      ]
     },
     "metadata": {},
     "output_type": "display_data"
    }
   ],
   "source": [
    "plt.figure(figsize=(15,6))\n",
    "\n",
    "x = list(range(2,len(probabilities)+2))\n",
    "y = probabilities\n",
    "\n",
    "plt.scatter(x, y, color='red')\n",
    "plt.xlabel('Steps')\n",
    "plt.ylabel('Probability')\n",
    "plt.xticks(x)\n",
    "plt.show()"
   ]
  },
  {
   "cell_type": "code",
   "execution_count": null,
   "metadata": {},
   "outputs": [],
   "source": []
  }
 ],
 "metadata": {
  "kernelspec": {
   "display_name": "Python 3",
   "language": "python",
   "name": "python3"
  },
  "language_info": {
   "codemirror_mode": {
    "name": "ipython",
    "version": 3
   },
   "file_extension": ".py",
   "mimetype": "text/x-python",
   "name": "python",
   "nbconvert_exporter": "python",
   "pygments_lexer": "ipython3",
   "version": "3.6.4"
  }
 },
 "nbformat": 4,
 "nbformat_minor": 2
}
