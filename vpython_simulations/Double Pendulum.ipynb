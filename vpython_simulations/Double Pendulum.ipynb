{
 "cells": [
  {
   "cell_type": "code",
   "execution_count": 1,
   "metadata": {},
   "outputs": [
    {
     "data": {
      "application/javascript": [
       "require.undef(\"nbextensions/vpython_libraries/glow.min\");"
      ],
      "text/plain": [
       "<IPython.core.display.Javascript object>"
      ]
     },
     "metadata": {},
     "output_type": "display_data"
    },
    {
     "data": {
      "application/javascript": [
       "require.undef(\"nbextensions/vpython_libraries/glowcomm\");"
      ],
      "text/plain": [
       "<IPython.core.display.Javascript object>"
      ]
     },
     "metadata": {},
     "output_type": "display_data"
    },
    {
     "data": {
      "application/javascript": [
       "require.undef(\"nbextensions/vpython_libraries/jquery-ui.custom.min\");"
      ],
      "text/plain": [
       "<IPython.core.display.Javascript object>"
      ]
     },
     "metadata": {},
     "output_type": "display_data"
    },
    {
     "data": {
      "application/javascript": [
       "require([\"nbextensions/vpython_libraries/glow.min\"], function(){console.log(\"GLOW LOADED\");})"
      ],
      "text/plain": [
       "<IPython.core.display.Javascript object>"
      ]
     },
     "metadata": {},
     "output_type": "display_data"
    },
    {
     "data": {
      "application/javascript": [
       "require([\"nbextensions/vpython_libraries/glowcomm\"], function(){console.log(\"GLOWCOMM LOADED\");})"
      ],
      "text/plain": [
       "<IPython.core.display.Javascript object>"
      ]
     },
     "metadata": {},
     "output_type": "display_data"
    },
    {
     "data": {
      "application/javascript": [
       "require([\"nbextensions/vpython_libraries/jquery-ui.custom.min\"], function(){console.log(\"JQUERY LOADED\");})"
      ],
      "text/plain": [
       "<IPython.core.display.Javascript object>"
      ]
     },
     "metadata": {},
     "output_type": "display_data"
    },
    {
     "data": {
      "text/html": [
       "<div id=\"glowscript\" class=\"glowscript\"></div>"
      ],
      "text/plain": [
       "<IPython.core.display.HTML object>"
      ]
     },
     "metadata": {},
     "output_type": "display_data"
    },
    {
     "data": {
      "application/javascript": [
       "window.__context = { glowscript_container: $(\"#glowscript\").removeAttr(\"id\")}"
      ],
      "text/plain": [
       "<IPython.core.display.Javascript object>"
      ]
     },
     "metadata": {},
     "output_type": "display_data"
    }
   ],
   "source": [
    "from vpython import *"
   ]
  },
  {
   "cell_type": "code",
   "execution_count": 3,
   "metadata": {},
   "outputs": [],
   "source": [
    "## constants\n",
    "g = 9.8         # acceleration due to gravity\n",
    "t = 0           # start counting time at zero\n",
    "deltat = .001   # time step\n",
    "\n",
    "# starting angle, string length, mass, momentum for object 1\n",
    "theta1 = 1.5 # starting angle in rads\n",
    "L1 = 0.8     # string length\n",
    "m1 = 0.1  # ball mass in kg\n",
    "p1 = m1*vector(0,0,0) # starting momentum\n",
    "\n",
    "# now object 2\n",
    "theta2 = 0.5\n",
    "L2 = 0.8\n",
    "m2 = 0.1\n",
    "p2 = m2*vector(0,0,0)\n",
    "\n",
    "# treat the strings as springs with very large k to get tension\n",
    "k = 1e5 "
   ]
  },
  {
   "cell_type": "code",
   "execution_count": 4,
   "metadata": {},
   "outputs": [],
   "source": [
    "## create the ceiling, masses, and strings\n",
    "ceiling = box(pos=vector(-0.5,1,0), size = vector(0.2, 0.01, 0.2))\n",
    "\n",
    "ball1 = sphere(pos=vector(ceiling.pos.x-L1*sin(theta1),\n",
    "                          ceiling.pos.y-L1*cos(theta1),0), \n",
    "               radius = 0.05, \n",
    "               color = color.orange, \n",
    "               make_trail = True,\n",
    "               interval = 40,\n",
    "               retain = 1e4) \n",
    "ball1.color = color.cyan\n",
    "\n",
    "ball2 = sphere(pos = vector(ceiling.pos.x-L1*sin(theta1)-L2*sin(theta2),\n",
    "                            ceiling.pos.y-L1*cos(theta1)-L2*cos(theta2),0), \n",
    "               radius = 0.05, \n",
    "               color = color.orange, \n",
    "               make_trail = True,\n",
    "               interval = 20,\n",
    "               retain = 1e4) \n",
    "ball2.color = color.cyan\n",
    "\n",
    "string1 = cylinder(pos=ceiling.pos, axis=ball1.pos-ceiling.pos, color=color.white, radius=0.008)\n",
    "string2 = cylinder(pos=ball1.pos, axis=ball2.pos-ball1.pos, color=color.white, radius=0.008)"
   ]
  },
  {
   "cell_type": "code",
   "execution_count": null,
   "metadata": {},
   "outputs": [],
   "source": [
    "## calculation loop\n",
    "while t < 1e2:\n",
    "    rate(1/deltat)\n",
    "    \n",
    "    # calc radial vectors and forces\n",
    "    r1 = vector(ball1.pos.x - ceiling.pos.x,ball1.pos.y - ceiling.pos.y,ball1.pos.z - ceiling.pos.z)    \n",
    "    r2 = vector(ball2.pos.x - ball1.pos.x,ball2.pos.y - ball1.pos.y,ball2.pos.z - ball1.pos.z)\n",
    "    F1 = m1*vector(0,-g,0) - k*(r1 - L1*r1.norm()) + k*(r2 - L2*r2.norm())\n",
    "    F2 = m2*vector(0,-g,0) - k*(r2 - L2*r2.norm())\n",
    "\n",
    "    # update momenta and positions\n",
    "    p1 = p1 + F1*deltat\n",
    "    ball1.pos = ball1.pos + (p1/m1)*deltat\n",
    "    string1.axis = ball1.pos - ceiling.pos\n",
    "\n",
    "    p2 = p2 + F2*deltat\n",
    "    ball2.pos = ball2.pos + (p2/m2)*deltat\n",
    "    string2.axis = ball2.pos - ball1.pos\n",
    "    string2.pos = ball1.pos\n",
    "\n",
    "    t = t + deltat"
   ]
  },
  {
   "cell_type": "code",
   "execution_count": 2,
   "metadata": {},
   "outputs": [
    {
     "data": {
      "text/html": [
       "<div id=\"glowscript\" class=\"glowscript\"></div>"
      ],
      "text/plain": [
       "<IPython.core.display.HTML object>"
      ]
     },
     "metadata": {},
     "output_type": "display_data"
    },
    {
     "data": {
      "application/javascript": [
       "window.__context = { glowscript_container: $(\"#glowscript\").removeAttr(\"id\")}"
      ],
      "text/plain": [
       "<IPython.core.display.Javascript object>"
      ]
     },
     "metadata": {},
     "output_type": "display_data"
    }
   ],
   "source": [
    "cvs = canvas(title = 'Double Pendulum', width = 400, height = 400)"
   ]
  },
  {
   "cell_type": "code",
   "execution_count": null,
   "metadata": {},
   "outputs": [],
   "source": []
  }
 ],
 "metadata": {
  "kernelspec": {
   "display_name": "Python 3",
   "language": "python",
   "name": "python3"
  },
  "language_info": {
   "codemirror_mode": {
    "name": "ipython",
    "version": 3
   },
   "file_extension": ".py",
   "mimetype": "text/x-python",
   "name": "python",
   "nbconvert_exporter": "python",
   "pygments_lexer": "ipython3",
   "version": "3.6.4"
  }
 },
 "nbformat": 4,
 "nbformat_minor": 2
}
